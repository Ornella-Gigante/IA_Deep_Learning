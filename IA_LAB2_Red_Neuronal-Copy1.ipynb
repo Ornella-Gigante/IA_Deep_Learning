{
 "cells": [
  {
   "cell_type": "code",
   "execution_count": 21,
   "id": "ff5b39c8",
   "metadata": {},
   "outputs": [],
   "source": [
    "# import the necessary packages\n",
    "from sklearn.preprocessing import LabelBinarizer\n",
    "from sklearn.metrics import classification_report\n",
    "from tensorflow.keras.models import Sequential\n",
    "from tensorflow.keras.layers import Dense, Dropout\n",
    "from tensorflow.keras.optimizers import SGD\n",
    "import tensorflow as tf\n",
    "import matplotlib.pyplot as plt\n",
    "import numpy as np\n",
    "import argparse"
   ]
  },
  {
   "cell_type": "code",
   "execution_count": 22,
   "id": "e44e0661",
   "metadata": {},
   "outputs": [],
   "source": [
    "import tensorflow as tf\n",
    "from tensorflow.keras.datasets import mnist"
   ]
  },
  {
   "cell_type": "code",
   "execution_count": 14,
   "id": "054afd86",
   "metadata": {},
   "outputs": [],
   "source": []
  },
  {
   "cell_type": "markdown",
   "id": "c45a7337",
   "metadata": {},
   "source": [
    "# Definición de métodos, es decir, técnicas y algoritmos que se usarán para entrenar, ajustar y aplicar el modelo en paetes específicas.  \n"
   ]
  },
  {
   "cell_type": "markdown",
   "id": "8bf0b90c",
   "metadata": {},
   "source": [
    "La función plot_grid toma como entrada los siguientes parámetros:\n",
    "\n",
    "X: una matriz que representa las imágenes que se van a mostrar en la cuadrícula.\n",
    "y: una matriz que contiene las etiquetas correspondientes a las imágenes en X.\n",
    "grid_size: un entero que representa el tamaño de la cuadrícula (por ejemplo, si grid_size = 3, se mostrará una cuadrícula de 3x3 imágenes).\n",
    "labelNames: una lista que contiene los nombres de las etiquetas correspondientes a las clases representadas en X.\n",
    "A continuación, se explican los pasos de la función plot_grid:\n",
    "\n",
    "Se crea una figura y una matriz de subtramas utilizando plt.subplots(grid_size, grid_size, figsize=(8, 10)). Esto crea una cuadrícula de subtramas de tamaño grid_size x grid_size que se utilizarán para mostrar las imágenes.\n",
    "Se realiza un bucle doble utilizando for para iterar sobre todas las filas y columnas de la cuadrícula. Los bucles tienen rangos range(grid_size).\n",
    "En cada iteración del bucle, se calcula el índice correspondiente en la matriz X utilizando la fórmula index = i * grid_size + j.\n",
    "Se muestra la imagen correspondiente al índice calculado en la subtrama actual utilizando axes[i, j].imshow(X[index], cmap='gray'). La imagen se muestra en escala de grises.\n",
    "Se elimina el eje de coordenadas en la subtrama actual utilizando axes[i, j].axis('off').\n",
    "Se agrega un título a la subtrama actual utilizando axes[i, j].set_title(f'Label: {labelNames[y[index][0]]}'). El título muestra la etiqueta correspondiente a la imagen actual.\n",
    "Después de que se completan los bucles, se muestra el gráfico utilizando plt.show().\n",
    "En resumen, la función plot_grid crea una cuadrícula de imágenes y sus etiquetas correspondientes utilizando los parámetros de entrada. Cada imagen se muestra en una subtrama de la cuadrícula, junto con su etiqueta."
   ]
  },
  {
   "cell_type": "code",
   "execution_count": 52,
   "id": "f26a3fa6",
   "metadata": {},
   "outputs": [],
   "source": [
    "\n",
    "\n",
    "\n",
    "def plot_grid(X, y, grid_size, labelNames):\n",
    "    # Crear una figura y un conjunto de ejes subyacentes\n",
    "    fig, axes = plt.subplots(grid_size, grid_size, figsize=(10, 10))\n",
    "    \n",
    "    for i in range(grid_size):\n",
    "        for j in range(grid_size):\n",
    "            # Calcular el índice correspondiente al nuevo grid\n",
    "            index = (i * grid_size) + j\n",
    "            \n",
    "            # Obtener la imagen y la etiqueta asociada\n",
    "            image = X[index]\n",
    "            label = y[index]\n",
    "            \n",
    "            # Mostrar la imagen en los ejes correspondientes\n",
    "            axes[i, j].imshow(image, cmap='gray')\n",
    "            axes[i, j].axis('off')\n",
    "            \n",
    "            # Agregar un título con la etiqueta correspondiente\n",
    "            axes[i, j].set_title(f'Label: {labelNames[label]}')\n",
    "    \n",
    "    # Mostrar el plot\n",
    "    plt.show()\n",
    "\n"
   ]
  },
  {
   "cell_type": "code",
   "execution_count": 53,
   "id": "4064ee2b",
   "metadata": {},
   "outputs": [],
   "source": [
    "def print_metrics(predictions, X_test, y_test, labelNames, H, epochs):\n",
    "\n",
    "    print(classification_report(y_test.argmax(axis=1),\tpredictions.argmax(axis=1), target_names=labelNames))\n",
    "\n",
    "    plt.style.use(\"ggplot\")\n",
    "    plt.figure()\n",
    "    plt.plot(np.arange(0, epochs), H.history[\"loss\"], label=\"train_loss\")\n",
    "    plt.plot(np.arange(0, epochs), H.history[\"val_loss\"], label=\"val_loss\")\n",
    "    plt.plot(np.arange(0, epochs), H.history[\"accuracy\"], label=\"train_acc\")\n",
    "    plt.plot(np.arange(0, epochs), H.history[\"val_accuracy\"], label=\"val_acc\")\n",
    "    plt.title(\"Training Loss and Accuracy\")\n",
    "    plt.xlabel(\"Epoch #\")\n",
    "    plt.ylabel(\"Loss/Accuracy\")\n",
    "    plt.legend()\n"
   ]
  },
  {
   "cell_type": "code",
   "execution_count": 54,
   "id": "4873e1b1",
   "metadata": {},
   "outputs": [],
   "source": [
    "# Cargar el dataset con la función load_data()\n",
    "(x_train, y_train), (x_test, y_test) = mnist.load_data()"
   ]
  },
  {
   "cell_type": "code",
   "execution_count": 55,
   "id": "60900084",
   "metadata": {},
   "outputs": [
    {
     "name": "stdout",
     "output_type": "stream",
     "text": [
      "Tamaño de X_train:  60000\n",
      "Tamaño de X_test:  10000\n",
      "Tamaño total del dataset:  70000\n",
      "Porcentaje de datos de entrenamiento:  0.8571428571428571\n",
      "Porcentaje de datos de test:  0.14285714285714285\n",
      "Número de clases: 10\n"
     ]
    }
   ],
   "source": [
    "#Imprimir algunas estadísticas del dataset \n",
    "#En el .shape se mostrará el tamaño de las imágenes que se usará más adelante \n",
    "print(\"Tamaño de X_train: \", x_train.shape[0])\n",
    "print(\"Tamaño de X_test: \", x_test.shape[0])\n",
    "print(\"Tamaño total del dataset: \", x_train.shape[0] + x_test.shape[0])\n",
    "print(\"Porcentaje de datos de entrenamiento: \", x_train.shape[0] / (x_train.shape[0] + x_test.shape[0]))\n",
    "print(\"Porcentaje de datos de test: \", x_test.shape[0] / (x_train.shape[0] + x_test.shape[0]))\n",
    "print(\"Número de clases:\", len(set(y_train)))"
   ]
  },
  {
   "cell_type": "code",
   "execution_count": 56,
   "id": "81889443",
   "metadata": {},
   "outputs": [
    {
     "name": "stdout",
     "output_type": "stream",
     "text": [
      "Número de clases en el dataset:  10\n"
     ]
    }
   ],
   "source": [
    "# Obtenemos los nombres de las clases de la base de datos\n",
    "labelNames = [\"cero\", \"uno\", \"dos\", \"tres\", \"cuatro\",\"cinco\", \"seis\", \"siete\", \"ocho\", \"nueve\"]\n",
    "\n",
    "print(\"Número de clases en el dataset: \", len(labelNames))"
   ]
  },
  {
   "cell_type": "code",
   "execution_count": 58,
   "id": "54b101fc",
   "metadata": {},
   "outputs": [
    {
     "name": "stdout",
     "output_type": "stream",
     "text": [
      "Numero de casos y su distribucion en el dataset de entrenamiento:  {0: 5923, 1: 6742, 2: 5958, 3: 6131, 4: 5842, 5: 5421, 6: 5918, 7: 6265, 8: 5851, 9: 5949}\n"
     ]
    }
   ],
   "source": [
    "# Contar el numero de casos diferentes en una lista\n",
    "unique, counts = np.unique(y_train, return_counts=True)\n",
    "print(\"Numero de casos y su distribucion en el dataset de entrenamiento: \", dict(zip(unique, counts)))"
   ]
  },
  {
   "cell_type": "code",
   "execution_count": 66,
   "id": "8b815df0",
   "metadata": {},
   "outputs": [
    {
     "data": {
      "image/png": "[encoded data removed]",
      "text/plain": [
       "<Figure size 1000x1000 with 9 Axes>"
      ]
     },
     "metadata": {},
     "output_type": "display_data"
    }
   ],
   "source": [
    "#Vista general de las imagenes del datset \n",
    "plot_grid(x_train, y_train, 3 ,labelNames)"
   ]
  },
  {
   "cell_type": "markdown",
   "id": "29aaa3cb",
   "metadata": {},
   "source": [
    "# Preparación de los datos de entrada "
   ]
  },
  {
   "cell_type": "code",
   "execution_count": 67,
   "id": "4f67acd0",
   "metadata": {},
   "outputs": [],
   "source": [
    "# Normalizamos los valores de la imagenes entre 0 y 1, es decir, que estén en la misma escala \n",
    "x_train = x_train.astype('float32') / 255.0\n",
    "x_test = x_test.astype('float32') / 255.0"
   ]
  },
  {
   "cell_type": "code",
   "execution_count": 74,
   "id": "efb3666f",
   "metadata": {},
   "outputs": [
    {
     "name": "stdout",
     "output_type": "stream",
     "text": [
      "Tamaño de la imagen (28, 28)\n"
     ]
    }
   ],
   "source": [
    "print(\"Tamaño de la imagen\", x_train[0].shape)\n"
   ]
  },
  {
   "cell_type": "markdown",
   "id": "a869da4b",
   "metadata": {},
   "source": [
    "Como el dataset ha demostrado tener un tamaño de (28,28) signific qeu es BIDIMENSIONAL, por lo que a continuación se calculará el tamaño de vector de imagen multiplicando las dos dimensiones"
   ]
  },
  {
   "cell_type": "code",
   "execution_count": 75,
   "id": "388b5bcf",
   "metadata": {},
   "outputs": [
    {
     "name": "stdout",
     "output_type": "stream",
     "text": [
      "Tamaño del vector de la imagen 784\n",
      "Tamaño del vector de la imagen 784\n"
     ]
    }
   ],
   "source": [
    "print(\"Tamaño del vector de la imagen\", x_train[0].shape[0] * x_train[0].shape[1])\n",
    "print(\"Tamaño del vector de la imagen\", x_train[0].flatten().shape[0])"
   ]
  },
  {
   "cell_type": "code",
   "execution_count": 80,
   "id": "c5fde951",
   "metadata": {},
   "outputs": [],
   "source": [
    "# Convertimos las imagenes (matrices) en vectores planos de 3072 elementos\n",
    "x_train = x_train.reshape((x_train.shape[0], 784))\n",
    "x_test = x_test.reshape((x_test.shape[0], 784))"
   ]
  },
  {
   "cell_type": "markdown",
   "id": "37b77db0",
   "metadata": {},
   "source": [
    "Utilizando la practics de one hot encoding se hara el indice y su contenido binario para que a la hora demostrar su contenido no sea de manera arbitraria "
   ]
  },
  {
   "cell_type": "code",
   "execution_count": 81,
   "id": "9b83245b",
   "metadata": {},
   "outputs": [
    {
     "name": "stdout",
     "output_type": "stream",
     "text": [
      "Nueva estructura de las etiquetas -> [0 0 0 0 0 0 0 1 0 0]\n"
     ]
    }
   ],
   "source": [
    "# Binariamos las etiquetas (one-hot encoding), conviertiendolas de un valor numerico a un vector de 10 elementos\n",
    "lb = LabelBinarizer()\n",
    "y_train = lb.fit_transform(y_train)\n",
    "y_test = lb.transform(y_test)\n",
    "print(f\"Nueva estructura de las etiquetas -> {y_test[0]}\")"
   ]
  },
  {
   "cell_type": "markdown",
   "id": "5afd7a78",
   "metadata": {},
   "source": [
    "# Creación del modelo neuronal "
   ]
  },
  {
   "cell_type": "code",
   "execution_count": 82,
   "id": "e81a70d2",
   "metadata": {},
   "outputs": [],
   "source": [
    "# Se crea una capa de modelosecuencial \n",
    "model = Sequential()\n",
    "# Se agrega uan capa densa de 784 unidades que son las que salieron en el vector en el codigo anterior y se activa con RELU, que aplica una funcion lineal a los valores positivos y convierte en 0 los valores negativos\n",
    "model.add(Dense(784, input_shape=(784,), activation=\"relu\"))\n",
    "#Se agrega una capa densa de de 512 unidades (aleatorio) y se activa RELU de nuevo \n",
    "model.add(Dense(512, activation=\"relu\"))\n",
    "# Se agraga otra capa donde saldrán 10 datos equivalentes a los tipos de clase y se utiliza softmax que es normalización de los valores de salida \n",
    "model.add(Dense(10, activation=\"softmax\"))"
   ]
  },
  {
   "cell_type": "markdown",
   "id": "28f9d8ef",
   "metadata": {},
   "source": [
    "# Entrenamiento del modelo"
   ]
  },
  {
   "cell_type": "code",
   "execution_count": 83,
   "id": "7f40845f",
   "metadata": {},
   "outputs": [
    {
     "name": "stdout",
     "output_type": "stream",
     "text": [
      "Epoch 1/50\n",
      "400/400 [==============================] - 32s 69ms/step - loss: 1.1497 - accuracy: 0.7541 - val_loss: 0.5530 - val_accuracy: 0.8703\n",
      "Epoch 2/50\n",
      "400/400 [==============================] - 28s 70ms/step - loss: 0.4707 - accuracy: 0.8810 - val_loss: 0.3845 - val_accuracy: 0.8999\n",
      "Epoch 3/50\n",
      "400/400 [==============================] - 27s 68ms/step - loss: 0.3723 - accuracy: 0.8986 - val_loss: 0.3306 - val_accuracy: 0.9084\n",
      "Epoch 4/50\n",
      "400/400 [==============================] - 29s 72ms/step - loss: 0.3293 - accuracy: 0.9075 - val_loss: 0.3009 - val_accuracy: 0.9166\n",
      "Epoch 5/50\n",
      "400/400 [==============================] - 29s 73ms/step - loss: 0.3023 - accuracy: 0.9151 - val_loss: 0.2784 - val_accuracy: 0.9233\n",
      "Epoch 6/50\n",
      "400/400 [==============================] - 30s 74ms/step - loss: 0.2822 - accuracy: 0.9200 - val_loss: 0.2636 - val_accuracy: 0.9282\n",
      "Epoch 7/50\n",
      "400/400 [==============================] - 29s 71ms/step - loss: 0.2662 - accuracy: 0.9252 - val_loss: 0.2489 - val_accuracy: 0.9312\n",
      "Epoch 8/50\n",
      "400/400 [==============================] - 33s 83ms/step - loss: 0.2520 - accuracy: 0.9288 - val_loss: 0.2381 - val_accuracy: 0.9337\n",
      "Epoch 9/50\n",
      "400/400 [==============================] - 29s 72ms/step - loss: 0.2400 - accuracy: 0.9322 - val_loss: 0.2288 - val_accuracy: 0.9357\n",
      "Epoch 10/50\n",
      "400/400 [==============================] - 22s 55ms/step - loss: 0.2293 - accuracy: 0.9355 - val_loss: 0.2186 - val_accuracy: 0.9381\n",
      "Epoch 11/50\n",
      "400/400 [==============================] - 31s 76ms/step - loss: 0.2192 - accuracy: 0.9385 - val_loss: 0.2102 - val_accuracy: 0.9404\n",
      "Epoch 12/50\n",
      "400/400 [==============================] - 29s 72ms/step - loss: 0.2103 - accuracy: 0.9410 - val_loss: 0.2030 - val_accuracy: 0.9432\n",
      "Epoch 13/50\n",
      "400/400 [==============================] - 30s 75ms/step - loss: 0.2020 - accuracy: 0.9434 - val_loss: 0.1967 - val_accuracy: 0.9440\n",
      "Epoch 14/50\n",
      "400/400 [==============================] - 29s 72ms/step - loss: 0.1944 - accuracy: 0.9455 - val_loss: 0.1904 - val_accuracy: 0.9452\n",
      "Epoch 15/50\n",
      "400/400 [==============================] - 30s 75ms/step - loss: 0.1870 - accuracy: 0.9479 - val_loss: 0.1843 - val_accuracy: 0.9469\n",
      "Epoch 16/50\n",
      "400/400 [==============================] - 31s 76ms/step - loss: 0.1806 - accuracy: 0.9495 - val_loss: 0.1793 - val_accuracy: 0.9487\n",
      "Epoch 17/50\n",
      "400/400 [==============================] - 26s 65ms/step - loss: 0.1742 - accuracy: 0.9513 - val_loss: 0.1743 - val_accuracy: 0.9491\n",
      "Epoch 18/50\n",
      "400/400 [==============================] - 29s 72ms/step - loss: 0.1685 - accuracy: 0.9530 - val_loss: 0.1676 - val_accuracy: 0.9506\n",
      "Epoch 19/50\n",
      "400/400 [==============================] - 28s 70ms/step - loss: 0.1632 - accuracy: 0.9542 - val_loss: 0.1630 - val_accuracy: 0.9519\n",
      "Epoch 20/50\n",
      "400/400 [==============================] - 29s 71ms/step - loss: 0.1579 - accuracy: 0.9557 - val_loss: 0.1580 - val_accuracy: 0.9536\n",
      "Epoch 21/50\n",
      "400/400 [==============================] - 30s 75ms/step - loss: 0.1531 - accuracy: 0.9574 - val_loss: 0.1541 - val_accuracy: 0.9535\n",
      "Epoch 22/50\n",
      "400/400 [==============================] - 29s 73ms/step - loss: 0.1485 - accuracy: 0.9589 - val_loss: 0.1505 - val_accuracy: 0.9562\n",
      "Epoch 23/50\n",
      "400/400 [==============================] - 27s 68ms/step - loss: 0.1440 - accuracy: 0.9599 - val_loss: 0.1480 - val_accuracy: 0.9566\n",
      "Epoch 24/50\n",
      "400/400 [==============================] - 27s 67ms/step - loss: 0.1400 - accuracy: 0.9613 - val_loss: 0.1433 - val_accuracy: 0.9588\n",
      "Epoch 25/50\n",
      "400/400 [==============================] - 27s 68ms/step - loss: 0.1362 - accuracy: 0.9624 - val_loss: 0.1404 - val_accuracy: 0.9591\n",
      "Epoch 26/50\n",
      "400/400 [==============================] - 27s 68ms/step - loss: 0.1325 - accuracy: 0.9636 - val_loss: 0.1386 - val_accuracy: 0.9601\n",
      "Epoch 27/50\n",
      "400/400 [==============================] - 27s 68ms/step - loss: 0.1290 - accuracy: 0.9648 - val_loss: 0.1350 - val_accuracy: 0.9603\n",
      "Epoch 28/50\n",
      "400/400 [==============================] - 27s 67ms/step - loss: 0.1256 - accuracy: 0.9657 - val_loss: 0.1327 - val_accuracy: 0.9615\n",
      "Epoch 29/50\n",
      "400/400 [==============================] - 27s 68ms/step - loss: 0.1224 - accuracy: 0.9666 - val_loss: 0.1301 - val_accuracy: 0.9613\n",
      "Epoch 30/50\n",
      "400/400 [==============================] - 27s 68ms/step - loss: 0.1195 - accuracy: 0.9673 - val_loss: 0.1269 - val_accuracy: 0.9631\n",
      "Epoch 31/50\n",
      "400/400 [==============================] - 24s 60ms/step - loss: 0.1164 - accuracy: 0.9679 - val_loss: 0.1241 - val_accuracy: 0.9632\n",
      "Epoch 32/50\n",
      "400/400 [==============================] - 26s 65ms/step - loss: 0.1136 - accuracy: 0.9690 - val_loss: 0.1221 - val_accuracy: 0.9648\n",
      "Epoch 33/50\n",
      "400/400 [==============================] - 29s 73ms/step - loss: 0.1111 - accuracy: 0.9695 - val_loss: 0.1208 - val_accuracy: 0.9643\n",
      "Epoch 34/50\n",
      "400/400 [==============================] - 25s 62ms/step - loss: 0.1083 - accuracy: 0.9705 - val_loss: 0.1176 - val_accuracy: 0.9654\n",
      "Epoch 35/50\n",
      "400/400 [==============================] - 23s 58ms/step - loss: 0.1058 - accuracy: 0.9713 - val_loss: 0.1161 - val_accuracy: 0.9655\n",
      "Epoch 36/50\n",
      "400/400 [==============================] - 23s 59ms/step - loss: 0.1034 - accuracy: 0.9718 - val_loss: 0.1139 - val_accuracy: 0.9670\n",
      "Epoch 37/50\n",
      "400/400 [==============================] - 29s 73ms/step - loss: 0.1012 - accuracy: 0.9724 - val_loss: 0.1123 - val_accuracy: 0.9666\n",
      "Epoch 38/50\n",
      "400/400 [==============================] - 28s 71ms/step - loss: 0.0988 - accuracy: 0.9730 - val_loss: 0.1115 - val_accuracy: 0.9668\n",
      "Epoch 39/50\n",
      "400/400 [==============================] - 28s 70ms/step - loss: 0.0967 - accuracy: 0.9737 - val_loss: 0.1085 - val_accuracy: 0.9673\n",
      "Epoch 40/50\n",
      "400/400 [==============================] - 28s 69ms/step - loss: 0.0947 - accuracy: 0.9743 - val_loss: 0.1093 - val_accuracy: 0.9671\n",
      "Epoch 41/50\n",
      "400/400 [==============================] - 27s 68ms/step - loss: 0.0926 - accuracy: 0.9749 - val_loss: 0.1067 - val_accuracy: 0.9676\n",
      "Epoch 42/50\n",
      "400/400 [==============================] - 28s 70ms/step - loss: 0.0907 - accuracy: 0.9755 - val_loss: 0.1051 - val_accuracy: 0.9689\n",
      "Epoch 43/50\n",
      "400/400 [==============================] - 28s 71ms/step - loss: 0.0888 - accuracy: 0.9760 - val_loss: 0.1044 - val_accuracy: 0.9688\n",
      "Epoch 44/50\n",
      "400/400 [==============================] - 28s 70ms/step - loss: 0.0869 - accuracy: 0.9763 - val_loss: 0.1017 - val_accuracy: 0.9700\n",
      "Epoch 45/50\n",
      "400/400 [==============================] - 28s 71ms/step - loss: 0.0851 - accuracy: 0.9769 - val_loss: 0.1007 - val_accuracy: 0.9693\n",
      "Epoch 46/50\n",
      "400/400 [==============================] - 27s 68ms/step - loss: 0.0836 - accuracy: 0.9774 - val_loss: 0.1007 - val_accuracy: 0.9694\n",
      "Epoch 47/50\n",
      "400/400 [==============================] - 28s 69ms/step - loss: 0.0819 - accuracy: 0.9782 - val_loss: 0.0991 - val_accuracy: 0.9694\n",
      "Epoch 48/50\n",
      "400/400 [==============================] - 28s 71ms/step - loss: 0.0803 - accuracy: 0.9786 - val_loss: 0.0987 - val_accuracy: 0.9700\n",
      "Epoch 49/50\n",
      "400/400 [==============================] - 28s 71ms/step - loss: 0.0787 - accuracy: 0.9788 - val_loss: 0.0977 - val_accuracy: 0.9691\n",
      "Epoch 50/50\n",
      "400/400 [==============================] - 28s 70ms/step - loss: 0.0772 - accuracy: 0.9794 - val_loss: 0.0955 - val_accuracy: 0.9712\n"
     ]
    }
   ],
   "source": [
    "#Conjunto de entrenamiento (x_train, y_train) vs conjunto de prueba (x_test, y_test)\n",
    "sgd = SGD(learning_rate=0.01)\n",
    "model.compile(loss=\"categorical_crossentropy\", optimizer=sgd,\n",
    "\tmetrics=[\"accuracy\"])\n",
    "# El historial del entrenamiento se guarda en la variable H y se hace 50 periodos o iteraciones de prueba\n",
    "H = model.fit(x_train, y_train, validation_data=(x_test, y_test),\n",
    " \tepochs=50, batch_size=150)"
   ]
  },
  {
   "cell_type": "markdown",
   "id": "057a13c1",
   "metadata": {},
   "source": [
    "El accuracy es de un 97 por ciento, por lo que se puede decir, en primeras vistas, que el modelo funciona de manera optima y tiene un \n",
    "corto margen de error con uan pérrida de data de 0.07"
   ]
  },
  {
   "cell_type": "markdown",
   "id": "d303d412",
   "metadata": {},
   "source": [
    "# En el primer bloque de codigo se visualizará una imagen random del dataset y en el segundo bloque se verificará si el modelo puede predecir esa imagen, si lo hace, significa que el modelo es óptimo y funciona bien "
   ]
  },
  {
   "cell_type": "code",
   "execution_count": 100,
   "id": "a8af71f1",
   "metadata": {},
   "outputs": [
    {
     "data": {
      "text/plain": [
       "Text(0.5, 1.0, 'cuatro')"
      ]
     },
     "execution_count": 100,
     "metadata": {},
     "output_type": "execute_result"
    },
    {
     "data": {
      "image/png": "[encoded data removed]",
      "text/plain": [
       "<Figure size 200x200 with 1 Axes>"
      ]
     },
     "metadata": {},
     "output_type": "display_data"
    }
   ],
   "source": [
    "# Visualizamos la imagen antes de la clasificacion\n",
    "index = 6\n",
    "plt.figure(figsize=(2,2))\n",
    "plt.imshow(x_test[index].reshape(28, 28))\n",
    "plt.title(labelNames[y_test[index].argmax(axis=0)])"
   ]
  },
  {
   "cell_type": "code",
   "execution_count": 101,
   "id": "721ad558",
   "metadata": {},
   "outputs": [
    {
     "name": "stdout",
     "output_type": "stream",
     "text": [
      "1/1 [==============================] - 0s 64ms/step\n",
      "Clase predicha para la imagen cuatro\n"
     ]
    }
   ],
   "source": [
    "# Pasamos la imagen al modelo para obtener la prediccion\n",
    "prediction = model.predict(x_test[index].reshape(1, 784))\n",
    "prediction.argmax(axis=1)\n",
    "\n",
    "print(\"Clase predicha para la imagen\", labelNames[prediction.argmax(axis=1)[0]])"
   ]
  },
  {
   "cell_type": "markdown",
   "id": "ac1b73e6",
   "metadata": {},
   "source": [
    "# Predicciones"
   ]
  },
  {
   "cell_type": "code",
   "execution_count": 99,
   "id": "6a0792b2",
   "metadata": {},
   "outputs": [
    {
     "name": "stdout",
     "output_type": "stream",
     "text": [
      "67/67 [==============================] - 2s 30ms/step\n",
      "              precision    recall  f1-score   support\n",
      "\n",
      "        cero       0.97      0.98      0.98       980\n",
      "         uno       0.98      0.99      0.99      1135\n",
      "         dos       0.97      0.98      0.97      1032\n",
      "        tres       0.96      0.98      0.97      1010\n",
      "      cuatro       0.97      0.97      0.97       982\n",
      "       cinco       0.97      0.96      0.96       892\n",
      "        seis       0.97      0.97      0.97       958\n",
      "       siete       0.97      0.96      0.97      1028\n",
      "        ocho       0.97      0.96      0.97       974\n",
      "       nueve       0.97      0.95      0.96      1009\n",
      "\n",
      "    accuracy                           0.97     10000\n",
      "   macro avg       0.97      0.97      0.97     10000\n",
      "weighted avg       0.97      0.97      0.97     10000\n",
      "\n"
     ]
    }
   ],
   "source": [
    "predictions = model.predict(x_test, batch_size=150)\n",
    "\n",
    "print(classification_report(y_test.argmax(axis=1),\tpredictions.argmax(axis=1), target_names=labelNames))"
   ]
  },
  {
   "cell_type": "code",
   "execution_count": 102,
   "id": "5dd22f8d",
   "metadata": {},
   "outputs": [
    {
     "name": "stdout",
     "output_type": "stream",
     "text": [
      "              precision    recall  f1-score   support\n",
      "\n",
      "        cero       0.97      0.98      0.98       980\n",
      "         uno       0.98      0.99      0.99      1135\n",
      "         dos       0.97      0.98      0.97      1032\n",
      "        tres       0.96      0.98      0.97      1010\n",
      "      cuatro       0.97      0.97      0.97       982\n",
      "       cinco       0.97      0.96      0.96       892\n",
      "        seis       0.97      0.97      0.97       958\n",
      "       siete       0.97      0.96      0.97      1028\n",
      "        ocho       0.97      0.96      0.97       974\n",
      "       nueve       0.97      0.95      0.96      1009\n",
      "\n",
      "    accuracy                           0.97     10000\n",
      "   macro avg       0.97      0.97      0.97     10000\n",
      "weighted avg       0.97      0.97      0.97     10000\n",
      "\n"
     ]
    },
    {
     "data": {
      "image/png": "[encoded data removed]",
      "text/plain": [
       "<Figure size 640x480 with 1 Axes>"
      ]
     },
     "metadata": {},
     "output_type": "display_data"
    }
   ],
   "source": [
    "print_metrics(predictions, x_test, y_test, labelNames, H, 50)"
   ]
  },
  {
   "cell_type": "markdown",
   "id": "8eeba929",
   "metadata": {},
   "source": [
    "ANÁLISIS: \n",
    "\n",
    "El análisis de las métricas del modelo de entrenamiento de la red neuronal es el siguiente:\n",
    "\n",
    "Precision: La precisión es una medida de la exactitud del modelo en predecir correctamente las instancias positivas (números escritos a mano) de cada clase. En promedio, el modelo tiene una precisión del 97%, lo que indica que acierta en un alto porcentaje de casos.\n",
    "\n",
    "Recall: El recall, también conocido como sensibilidad, es una medida de la capacidad del modelo para encontrar todas las instancias positivas de cada clase. En promedio, el modelo tiene un recall del 97%, lo que significa que identifica correctamente la mayoría de los números escritos a mano.\n",
    "\n",
    "F1-score: El F1-score es una medida que combina la precisión y el recall, y proporciona una medida de equilibrio entre ambas. En promedio, el modelo tiene un F1-score de 97%, lo que indica un buen balance entre la precisión y el recall.\n",
    "\n",
    "Support: Indica el número de instancias de cada clase en el conjunto de prueba. Por ejemplo, hay 980 instancias de la clase \"cero\", 1135 instancias de la clase \"uno\", etc.\n",
    "\n",
    "Accuracy: La precisión global del modelo en todo el conjunto de prueba es del 97%, lo que significa que el modelo clasifica correctamente el 97% de las instancias de números escritos a mano.\n",
    "\n",
    "En resumen, el modelo de entrenamiento de la red neuronal muestra un rendimiento muy bueno en la clasificación de números escritos a mano, con una alta precisión, recall y F1-score en todas las clases. Además, la precisión global del modelo es del 97%."
   ]
  }
 ],
 "metadata": {
  "kernelspec": {
   "display_name": "Python 3 (ipykernel)",
   "language": "python",
   "name": "python3"
  },
  "language_info": {
   "codemirror_mode": {
    "name": "ipython",
    "version": 3
   },
   "file_extension": ".py",
   "mimetype": "text/x-python",
   "name": "python",
   "nbconvert_exporter": "python",
   "pygments_lexer": "ipython3",
   "version": "3.10.9"
  }
 },
 "nbformat": 4,
 "nbformat_minor": 5
}
